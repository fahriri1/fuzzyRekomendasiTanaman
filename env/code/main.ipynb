{
 "cells": [
  {
   "cell_type": "code",
   "execution_count": null,
   "metadata": {},
   "outputs": [],
   "source": [
    "import numpy as np\n",
    "import matplotlib as plt\n",
    "import skfuzzy as fuzzy\n",
    "from skfuzzy import control as ctrl\n",
    "\n",
    "temperatur = ctrl.Antecedent(np.arange(10,40,1), 'temperatur')\n",
    "curah_hujan = ctrl.Antecedent(np.arange(200, 2600, 1), 'curah hujan')\n",
    "humid = ctrl.Antecedent(np.arange(10,100,1), 'humidity')"
   ]
  },
  {
   "cell_type": "code",
   "execution_count": 28,
   "metadata": {},
   "outputs": [],
   "source": [
    "temperatur['suhu dingin'] = fuzzy.trimf(temperatur.universe, [10, 15, 20])\n",
    "temperatur['Suhu sedikit dingin'] = fuzzy.trimf(temperatur.universe, [15, 20, 25])\n",
    "temperatur['Suhu sedang'] = fuzzy.trimf(temperatur.universe, [20, 25, 30])\n",
    "temperatur['Suhu sedikit panas'] = fuzzy.trimf(temperatur.universe, [25, 30, 35])\n",
    "temperatur['Suhu panas'] = fuzzy.trimf(temperatur.universe, [30, 35, 40])\n",
    "\n",
    "curah_hujan['Kering'] = fuzzy.trimf(curah_hujan.universe, [200, 600, 1000])\n",
    "curah_hujan['Jarang hujan'] = fuzzy.trimf(curah_hujan.universe, [600, 1000, 1400])\n",
    "curah_hujan['Hujan'] = fuzzy.trimf(curah_hujan.universe, [1000, 1400, 1800])\n",
    "curah_hujan['Sering hujan'] = fuzzy.trimf(curah_hujan.universe, [1400, 1800, 2200])\n",
    "curah_hujan['Hujan lebat'] = fuzzy.trimf(curah_hujan.universe, [1800, 2200, 2600])\n",
    "\n",
    "humid['Kering'] = fuzzy.trimf(humid.universe, [10, 25, 40])\n",
    "humid['Sedikit lembab'] = fuzzy.trimf(humid.universe, [25, 40, 55])\n",
    "humid['Lembab'] = fuzzy.trimf(humid.universe, [40, 55, 70])\n",
    "humid['Lebih lembab'] = fuzzy.trimf(humid.universe, [55, 70, 85])\n",
    "humid['Sangat lembab'] = fuzzy.trimf(humid.universe, [70, 85, 100])"
   ]
  }
 ],
 "metadata": {
  "kernelspec": {
   "display_name": "env",
   "language": "python",
   "name": "python3"
  },
  "language_info": {
   "codemirror_mode": {
    "name": "ipython",
    "version": 3
   },
   "file_extension": ".py",
   "mimetype": "text/x-python",
   "name": "python",
   "nbconvert_exporter": "python",
   "pygments_lexer": "ipython3",
   "version": "3.12.3"
  }
 },
 "nbformat": 4,
 "nbformat_minor": 2
}
